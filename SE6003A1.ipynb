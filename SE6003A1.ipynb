{
 "cells": [
  {
   "cell_type": "code",
   "metadata": {
    "ExecuteTime": {
     "end_time": "2025-01-20T08:28:12.146626600Z",
     "start_time": "2025-01-20T08:25:28.551128Z"
    }
   },
   "source": [
    "from cryptography.hazmat.backends import default_backend\n",
    "from cryptography.hazmat.primitives.asymmetric import rsa, padding \n",
    "from cryptography.hazmat.primitives.kdf.pbkdf2 import PBKDF2HMAC\n",
    "from cryptography.hazmat.primitives import keywrap\n",
    "from cryptography.hazmat.primitives.ciphers import Cipher, algorithms, modes\n",
    "import hashlib\n",
    "from cryptography.hazmat.primitives import hashes, serialization\n",
    "from cryptography.exceptions import InvalidSignature\n",
    "from cryptography.hazmat.primitives import serialization, hashes\n",
    "import os\n",
    "\n",
    "\n"
   ],
   "outputs": [],
   "execution_count": 11
  },
  {
   "cell_type": "code",
   "metadata": {
    "ExecuteTime": {
     "end_time": "2025-01-20T08:28:12.146626600Z",
     "start_time": "2025-01-20T08:25:49.489128Z"
    }
   },
   "source": [
    "#1,2.Step-by-Step Procedures\n",
    "# read txt/csv\n",
    "file_path = \"C:/Users/Martin Lin/Desktop/SE6003/Ass/SE6003A1/SE6003A1/plaintext_file.txt\"  # input the file path here\n",
    "digest_file_path = \"C:/Users/Martin Lin/Desktop/SE6003/Ass/SE6003A1/SE6003A1/digest_file.hex\"# output the file path here\n",
    "with open(file_path, 'rb') as file:\n",
    "    file_data = file.read()  # 读取整个文件为字节数据\n",
    "    # file_data=file_data.decode('utf-8')\n",
    "print(file_data)\n",
    "\n",
    "# Initialize SHA-512 hash object\n",
    "sha512_hash = hashlib.sha512()\n",
    "sha512_hash.update(file_data)\n",
    "digest_hex = sha512_hash.hexdigest()\n",
    "\n",
    "print(\n",
    "    \"--------------------------------------------------------------------\"\n",
    ")\n",
    "# Print the SHA-512 hash\n",
    "print(\"SHA-512 Hash:\", digest_hex)\n",
    "\n",
    "# output the digest_file\n",
    "with open(digest_file_path, 'w') as digest_file:\n",
    "    digest_file.write(digest_hex)  \n",
    "    \n"
   ],
   "outputs": [
    {
     "name": "stderr",
     "output_type": "stream",
     "text": [
      "IOPub data rate exceeded.\n",
      "The Jupyter server will temporarily stop sending output\n",
      "to the client in order to avoid crashing it.\n",
      "To change this limit, set the config variable\n",
      "`--ServerApp.iopub_data_rate_limit`.\n",
      "\n",
      "Current values:\n",
      "ServerApp.iopub_data_rate_limit=1000000.0 (bytes/sec)\n",
      "ServerApp.rate_limit_window=3.0 (secs)\n",
      "\n"
     ]
    }
   ],
   "execution_count": 12
  },
  {
   "cell_type": "code",
   "metadata": {
    "ExecuteTime": {
     "end_time": "2025-01-20T08:26:15.212127Z",
     "start_time": "2025-01-20T08:26:14.599129Z"
    }
   },
   "source": [
    "#3,4.RSA-4096 key pair,Sign plaintext .file \n",
    "plaintext_file_path = \"C:/Users/Martin Lin/Desktop/SE6003/Ass/SE6003A1/SE6003A1/plaintext_file.txt\" \n",
    "\n",
    "#generate the private key\n",
    "private_key = rsa.generate_private_key(public_exponent=65537,key_size=4096,backend=default_backend())\n",
    "\n",
    "# Save the private key in PEM format\n",
    "with open(\"RSA_private_key.pem\", \"wb\") as private_key_file:\n",
    "    private_key_file.write(\n",
    "        private_key.private_bytes(\n",
    "            encoding=serialization.Encoding.PEM,\n",
    "            format=serialization.PrivateFormat.TraditionalOpenSSL,\n",
    "            encryption_algorithm=serialization.NoEncryption()\n",
    "        )\n",
    "    )\n",
    "\n",
    "# Save the public key in PEM format\n",
    "public_key = private_key.public_key()\n",
    "with open(\"RSA_public_key.pem\", \"wb\") as public_key_file:\n",
    "    public_key_file.write(\n",
    "        public_key.public_bytes(\n",
    "            encoding=serialization.Encoding.PEM,\n",
    "            format=serialization.PublicFormat.SubjectPublicKeyInfo\n",
    "        )\n",
    "    )\n",
    "print(\"RSA-4096 key pair generated and saved.\")\n",
    "\n",
    "\n",
    "\n",
    "#Sign the plaintext_file using the private key\n",
    "signed_file_path = \"signed_file\"\n",
    "#read the plaintext first\n",
    "with open(plaintext_file_path, 'rb') as file:\n",
    "    plaintext_data = file.read()\n",
    "\n",
    "# Create the signature by the function using the private key\n",
    "signature = private_key.sign(\n",
    "    plaintext_data,\n",
    "    padding.PSS(\n",
    "        mgf=padding.MGF1(hashes.SHA512()),\n",
    "        salt_length=padding.PSS.MAX_LENGTH\n",
    "    ),\n",
    "    hashes.SHA512()\n",
    ")\n",
    "\n",
    "# Save the signature to a file\n",
    "with open(signed_file_path, 'wb') as signed_file:\n",
    "    signed_file.write(signature)\n",
    "\n",
    "print(f\"File signed and signature saved to {signed_file_path}.\")\n",
    "\n",
    "# Step 3: Verify the signature using the public key\n",
    "try:\n",
    "    public_key.verify(\n",
    "        signature,\n",
    "        plaintext_data,\n",
    "        padding.PSS(\n",
    "            mgf=padding.MGF1(hashes.SHA512()),\n",
    "            salt_length=padding.PSS.MAX_LENGTH\n",
    "        ),\n",
    "        hashes.SHA512()\n",
    "    )\n",
    "    print(\"Signature is valid.\")\n",
    "except InvalidSignature:\n",
    "    print(\"Signature is invalid.\")"
   ],
   "outputs": [
    {
     "name": "stdout",
     "output_type": "stream",
     "text": [
      "RSA-4096 key pair generated and saved.\n",
      "File signed and signature saved to signed_file.\n",
      "Signature is valid.\n"
     ]
    }
   ],
   "execution_count": 13
  },
  {
   "cell_type": "code",
   "metadata": {
    "ExecuteTime": {
     "end_time": "2025-01-20T08:26:48.303800Z",
     "start_time": "2025-01-20T08:26:48.288801Z"
    }
   },
   "source": [
    "#verify the RSA-4096 key pair\n",
    "\n",
    "from cryptography.hazmat.primitives.asymmetric import padding\n",
    "from cryptography.hazmat.primitives import hashes, serialization\n",
    "from cryptography.exceptions import InvalidSignature\n",
    "\n",
    "# Paths to the public key, plaintext file, and the signature file\n",
    "public_key_path = \"C:/Users/Martin Lin/Desktop/SE6003/Ass/SE6003A1/SE6003A1/RSA_public_key.pem\"\n",
    "plaintext_file_path = \"C:/Users/Martin Lin/Desktop/SE6003/Ass/SE6003A1/SE6003A1/plaintext_file.txt\"\n",
    "signature_file_path = \"C:/Users/Martin Lin/Desktop/SE6003/Ass/SE6003A1/SE6003A1/signed_file\"\n",
    "\n",
    "def verify_signature(public_key_path, plaintext_file_path, signature_file_path):\n",
    "    # Load the public key from a PEM file\n",
    "    with open(public_key_path, \"rb\") as public_key_file:\n",
    "        public_key = serialization.load_pem_public_key(public_key_file.read())\n",
    "    \n",
    "    # Read the plaintext data from the file\n",
    "    with open(plaintext_file_path, \"rb\") as plaintext_file:\n",
    "        plaintext_data = plaintext_file.read()\n",
    "\n",
    "    # Read the binary signature from the file\n",
    "    with open(signature_file_path, \"rb\") as signature_file:\n",
    "        signature = signature_file.read()  # Directly read binary signature\n",
    "\n",
    "    # Verify the signature\n",
    "    try:\n",
    "        public_key.verify(\n",
    "            signature,\n",
    "            plaintext_data,\n",
    "            padding.PSS(\n",
    "                mgf=padding.MGF1(hashes.SHA512()),\n",
    "                salt_length=padding.PSS.MAX_LENGTH\n",
    "            ),\n",
    "            hashes.SHA512()\n",
    "        )\n",
    "        print(\"Signature is valid.\")\n",
    "        return True\n",
    "    except InvalidSignature:\n",
    "        print(\"Signature is invalid.\")\n",
    "        return False\n",
    "\n",
    "\n",
    "\n",
    "# Call the verification function\n",
    "is_valid = verify_signature(public_key_path, plaintext_file_path, signature_file_path)\n",
    "\n",
    "if is_valid:\n",
    "    print(\"The signature matches and is valid.\")\n",
    "else:\n",
    "    print(\"The signature is invalid.\")\n"
   ],
   "outputs": [
    {
     "name": "stdout",
     "output_type": "stream",
     "text": [
      "Signature is invalid.\n",
      "The signature is invalid.\n"
     ]
    }
   ],
   "execution_count": 14
  },
  {
   "cell_type": "code",
   "metadata": {
    "ExecuteTime": {
     "end_time": "2025-01-20T08:27:04.923801Z",
     "start_time": "2025-01-20T08:27:04.910802Z"
    }
   },
   "source": [
    "# Check aes_key and decrypted_AES_key\n",
    "with open(\"AES_key.txt\") as aes_file:\n",
    "    aes_key = aes_file.read()\n",
    "print(aes_key)\n",
    "with open(\"decrypted_AES_key.txt\") as decrypted_aes_key_file:\n",
    "    decrypted_key = decrypted_aes_key_file.read()\n",
    "print(decrypted_key)\n",
    "if aes_key  == decrypted_key:\n",
    "    print(\"Same!!!!!!!!\")\n",
    "else:\n",
    "    print(\"错啦\")\n",
    "\n",
    "# print(\"比较一下\")\n",
    "# decrypted_aes_key_binary_string = ''.join(format(byte, '08b') for byte in decrypted_aes_key)\n",
    "# if aes_key_binary_string == decrypted_aes_key_string:\n",
    "#     print(True)\n",
    "# else:\n",
    "#     print(False)\n",
    "#     print(type(aes_key))\n",
    "#     print(type(decrypted_aes_key_string))\n",
    "# print(aes_key_binary_string)\n",
    "# print(aes_key)"
   ],
   "outputs": [
    {
     "name": "stdout",
     "output_type": "stream",
     "text": [
      "0000111011010111111100111101011101111011110100101010100111011110110010000100010110110110000010011000111001011101100100111101001111001100010101111111101011000101010001101000110010010101001111100101111110000010010111110010011110000100101100000011111001001001\n",
      "0000111011010111111100111101011101111011110100101010100111011110110010000100010110110110000010011000111001011101100100111101001111001100010101111111101011000101010001101000110010010101001111100101111110000010010111110010011110000100101100000011111001001001\n",
      "Same!!!!!!!!\n"
     ]
    }
   ],
   "execution_count": 15
  },
  {
   "cell_type": "code",
   "metadata": {
    "ExecuteTime": {
     "end_time": "2025-01-20T08:27:21.940101Z",
     "start_time": "2025-01-20T08:27:21.713093Z"
    }
   },
   "source": [
    "#3-4generate,Encrypt,Decrypt AES\n",
    "\n",
    "# Step 5: Generate an AES-256 key (32 bytes == 256 bits)\n",
    "aes_key = os.urandom(32)  \n",
    "\n",
    "\n",
    "# Convert each byte to  binary string \n",
    "print(\"aes_key:\")\n",
    "print(aes_key)\n",
    "aes_key_binary_string = ''.join(format(byte, '08b') for byte in aes_key)\n",
    "print(aes_key_binary_string)\n",
    "# Save AES key to a file (binary format)\n",
    "with open(\"AES_key.txt\", \"w\") as aes_file:\n",
    "    aes_file.write(aes_key_binary_string )\n",
    "\n",
    "with open(\"AES_key_original.txt\", \"wb\") as original_aes_key_file:\n",
    "    original_aes_key_file.write(aes_key)\n",
    "\n",
    "print(\"------------------------------------------------------------------------\")\n",
    "\n",
    "# Step 6: Encrypt the AES key using the RSA public key and save it as encrypted_AES_key.txt\n",
    "print(\"Encrypt_key:\")\n",
    "# Load RSA public key from PEM file (assuming you already generated and saved this key)\n",
    "with open(\"RSA_public_key.pem\", \"rb\") as key_file:\n",
    "    public_key = serialization.load_pem_public_key(key_file.read(), backend=default_backend())\n",
    "\n",
    "# Encrypt the AES key using RSA public key\n",
    "encrypted_aes_key = public_key.encrypt(\n",
    "    aes_key,\n",
    "    padding.OAEP(\n",
    "        mgf=padding.MGF1(algorithm=hashes.SHA256()),\n",
    "        algorithm=hashes.SHA256(),\n",
    "        label=None\n",
    "    )\n",
    ")\n",
    "\n",
    "# Save the encrypted AES key to a file\n",
    "# encrypted_aes_key_binary_string = ''.join(format(byte, '08b') for byte in encrypted_aes_key)\n",
    "\n",
    "with open(\"encrypted_AES_key.txt\", \"wb\") as binary_file:\n",
    "    binary_file.write(encrypted_aes_key)\n",
    "\n",
    "print(encrypted_aes_key)\n",
    "print(\"------------------------------------------------------------------------\")\n",
    "\n",
    "# Step 7: Decrypt encrypted_AES_key.txt using the RSA private key and save as decrypted_AES_key.txt\n",
    "\n",
    "# Load RSA private key from PEM file (assuming you already generated and saved this key)\n",
    "with open(\"RSA_private_key.pem\", \"rb\") as key_file:\n",
    "    private_key = serialization.load_pem_private_key(key_file.read(), password=None, backend=default_backend())\n",
    "\n",
    "# Read the encrypted AES key from the file\n",
    "with open(\"encrypted_AES_key.txt\", \"rb\") as encrypted_file:\n",
    "    encrypted_aes_key = encrypted_file.read()\n",
    "\n",
    "# Decrypt the AES key using the RSA private key\n",
    "decrypted_aes_key = private_key.decrypt(\n",
    "    encrypted_aes_key,\n",
    "    padding.OAEP(\n",
    "        mgf=padding.MGF1(algorithm=hashes.SHA256()),\n",
    "        algorithm=hashes.SHA256(),\n",
    "        label=None\n",
    "    )\n",
    ")\n",
    "print(\"decrypted_aes_key: \")\n",
    "print(decrypted_aes_key)\n",
    "# with open(\"decrypted_AES_key_original.txt\", \"wb\") as decrypted_file_original:\n",
    "#     decrypted_aes_key_original = decrypted_file_original.write(decrypted_aes_key)\n",
    "decrypted_aes_key_string = ''.join(format(byte, '08b') for byte in decrypted_aes_key)\n",
    "print(decrypted_aes_key_string)\n",
    "print(\"------------------------------------------------------------------------\")\n",
    "# # Save the decrypted AES key to a file\n",
    "with open(\"decrypted_AES_key.txt\", \"w\") as decrypted_file:\n",
    "    decrypted_file.write(decrypted_aes_key_string)\n",
    "\n",
    "# print(\"AES key decrypted and saved as decrypted_AES_key.txt.\")\n",
    "\n",
    "# Check Check Check\n",
    "with open(\"AES_key.txt\") as aes_file:\n",
    "    aes_key = aes_file.read()\n",
    "with open(\"decrypted_AES_key.txt\") as decrypted_aes_key_file:\n",
    "    decrypted_key = decrypted_aes_key_file.read()\n",
    "if aes_key  == decrypted_key:\n",
    "    print(\"Same!!!!!!!!\")\n",
    "else:\n",
    "    print(\"错啦\")\n",
    "\n",
    "# print(\"比较一下\")\n",
    "# decrypted_aes_key_binary_string = ''.join(format(byte, '08b') for byte in decrypted_aes_key)\n",
    "# if aes_key_binary_string == decrypted_aes_key_string:\n",
    "#     print(True)\n",
    "# else:\n",
    "#     print(False)\n",
    "#     print(type(aes_key))\n",
    "#     print(type(decrypted_aes_key_string))\n",
    "# print(aes_key_binary_string)\n",
    "# print(aes_key)"
   ],
   "outputs": [
    {
     "name": "stdout",
     "output_type": "stream",
     "text": [
      "aes_key:\n",
      "b'\\x95\\xb8~\\x84\\xa8\\x14\\x1d\\x1bznX^4G\\xa7\\x95\\x82v\\xb6?\\x1fCr&\\xe1dY\\xba\\x92\\xc21('\n",
      "1001010110111000011111101000010010101000000101000001110100011011011110100110111001011000010111100011010001000111101001111001010110000010011101101011011000111111000111110100001101110010001001101110000101100100010110011011101010010010110000100011000100101000\n",
      "------------------------------------------------------------------------\n",
      "Encrypt_key:\n",
      "b'\\x11%\\xc72(\\xbe!\\xc8\\xc2\\xc2\\xb2\\xb5h\\xbc\\x05I\\x9e\\xa9\\xc6\\x0f\\xb6d\\x1f]_\\xe6\\xed\\x82\\x7f\\xca8/\\xa6\\xbf/e\\xb2A\\x8c\\xc6\\x1c\\x13@\\x07R\\x17K\\xd9{\\ne\\x8fl\\x9f\\xf4&\\x04()s\\xe6\\x87\\xbe\\xb4\\x99l\\x93\\xbf\\xdb0\\xabss\\n\\tS\\xac\\xbdCZ\\xcb\\x9b\\xab\\xba\\xc1\\x0c\\xe8\\xb9\\x90\\xff\\x9a\\x04|\\x013\\xb1\"\\xc82\\xd2-\\'\\xac\\xbb\\xdb\\xa7\\xf44}qw\\xe4w\\xb5H\\x9f\\x8e4\"\\x8f\\xb7\\x08\\xde\\xfb#\\x1b\\xb6+\\xc7\\xf3\\x99Ioo\\xe7\\xbb\\xc58E\\xcc\\xe0\\xde\\x82\\x98;\\xd0a?|0S\\xbb\\xc4\\xcc>e\\x17\\xa0\\x04\\x87\\x96\\x8c\\x916v\\xca\\x9e\\x97\\x9c\\xd0\\xa9,\\xc4\\xa0\\x16\\x146\\x00\\x95\\xf9\\x08ig2\\xc0\\xfc\\xe5\\xc6\\xe4\\x14t\\xa9\\xd5\\x1c\\xb9O%kTm\\xdfefC(\\x1fJ\\xd9\\x93\\x19\\xb2`1\\r\\xdf\\x0c\\xdbz\\x06\\x86D(\\t|\\xb81\\x829\\xd0\\xd4\\xdf=\\xc9\\xdbR\\xd8\\xd7\\xf9\\xed\\x80f|\\xe3\\x08R\\xb0\\xa4\\x991(1\\x88\\xe0\\xa0\\xf7\\xc1BM],}v\\x12\\'p\\n\\x99\\xa6\\x86\\xbb\\x00 1h\\x9e\\x8d\\xdd[\\xb6\\x08Z\\x86i\\x02\\xb0\\xfe\\x11ZA\\xadD\\x1cn\\xa0=\\xca\\x17\\\\\\x9d\\xfa\\xf3:\\x9e[N\\x9a\\xff\\x980yM\\xa7\\x11\\xb2\\x05\\x8bA\\xdb\\xc3\\xe8\\xef\\xaa\\x82\\x82\\x95\\xf0JM-\\xbe4\\x84Jt\\xec\\\\\\xfb\\xb1\\x81X\\xbf\\xf5\\xfb\\x80\\x0f\\x82\\x1b\\xa8\\xe5\\x0cLZ \\x1c#\\xae3\\xe2\\xd1k\\r\\x07\\xe6\\xaa\\xdb\\xfe\\xf3\\r\\xf7 \\xb6p\\xb7\\xcfy\\x91N?\\x1eyq|\\x92\\xd7\\xf2\\xd8\\xac*\\xe6\\x88\\xefrn\\x80\\xbc@\\x10H.S\\x98\\xf2\\xdfO\\xf0\\xb7\\xf4\\xe8*\\xa3\\x14\\xbc)-a\\xa0x\\x0f,\\xb3\\x9bw8y\\xc14l\\xe5\\xb4r\\n\\x90\\x13uA\\x1c\\xfb\\xff,\\xe9YPv\"j&\\xea(c^\\xd9\\xc7\\xc1oE%\\x8az\\x7fp\\xfc\\xdcA\\x11\\xc6Z\\x03R\\xe0\\xcf\\xcd\\xe1\\xd1\\n\\xaa\\xdb\\x17p1\\x10Z\\x14\\xe8@\\xdb\\xa22\\x12\\xd1\\x1c\\x9c\\xd1\\xdek\\xb2\\x92.Y8r4\\xe4\\x9f\\x1d?E\\xe5\\x11#-\\xaf\\xc5'\n",
      "------------------------------------------------------------------------\n",
      "decrypted_aes_key: \n",
      "b'\\x95\\xb8~\\x84\\xa8\\x14\\x1d\\x1bznX^4G\\xa7\\x95\\x82v\\xb6?\\x1fCr&\\xe1dY\\xba\\x92\\xc21('\n",
      "1001010110111000011111101000010010101000000101000001110100011011011110100110111001011000010111100011010001000111101001111001010110000010011101101011011000111111000111110100001101110010001001101110000101100100010110011011101010010010110000100011000100101000\n",
      "------------------------------------------------------------------------\n",
      "Same!!!!!!!!\n"
     ]
    }
   ],
   "execution_count": 16
  },
  {
   "cell_type": "code",
   "metadata": {
    "ExecuteTime": {
     "end_time": "2025-01-20T08:27:25.472124Z",
     "start_time": "2025-01-20T08:27:21.946092Z"
    }
   },
   "source": [
    "# 8. Encrypt plaintext file by using the AES key in \n",
    "from cryptography.hazmat.primitives import padding\n",
    "from cryptography.hazmat.primitives.ciphers import Cipher, algorithms, modes\n",
    "from cryptography.hazmat.backends import default_backend\n",
    "import os\n",
    "# Load AES key\n",
    "with open(\"AES_key.txt\", \"rb\") as aes_file:\n",
    "    aes_key = aes_file.read()\n",
    "\n",
    "# Convert binary string to bytes\n",
    "aes_key = int(aes_key.decode(), 2).to_bytes(len(aes_key) // 8, byteorder='big')\n",
    "\n",
    "# Load plaintext data\n",
    "with open(\"plaintext_file.txt\", 'rb') as file:\n",
    "    plaintext_data = file.read()\n",
    "\n",
    "# Apply PKCS7 padding to the plaintext (AES block size is 128 bits = 16 bytes)\n",
    "padder = padding.PKCS7(128).padder()\n",
    "padded_data = padder.update(plaintext_data) + padder.finalize()\n",
    "\n",
    "# Create AES cipher in ECB mode \n",
    "cipher = Cipher(\n",
    "    algorithms.AES(aes_key),\n",
    "    modes.ECB(),\n",
    "    backend=default_backend()\n",
    ")\n",
    "encryptor = cipher.encryptor()\n",
    "\n",
    "# Encrypt the padded plaintext\n",
    "ciphertext = encryptor.update(padded_data) + encryptor.finalize()\n",
    "\n",
    "# Save the ciphertext\n",
    "with open(\"ciphertext_file\", 'wb') as ciphertext_file:\n",
    "    ciphertext_file.write(ciphertext)\n",
    "\n",
    "print(\"File encrypted using AES-ECB.\")\n"
   ],
   "outputs": [
    {
     "name": "stdout",
     "output_type": "stream",
     "text": [
      "File encrypted using AES-ECB.\n"
     ]
    }
   ],
   "execution_count": 17
  },
  {
   "cell_type": "code",
   "metadata": {
    "ExecuteTime": {
     "end_time": "2025-01-20T08:27:50.349079Z",
     "start_time": "2025-01-20T08:27:46.798202Z"
    }
   },
   "source": [
    "#verify the ECB en/decryption\n",
    "\n",
    "with open(\"ciphertext_file\", 'rb') as ciphertext_file:\n",
    "    ciphertext = ciphertext_file.read()\n",
    "\n",
    "# Step 6: Create the same AES cipher in ECB mode for decryption\n",
    "decryptor = cipher.decryptor()\n",
    "\n",
    "# Step 7: Decrypt the ciphertext\n",
    "decrypted_padded_data = decryptor.update(ciphertext) + decryptor.finalize()\n",
    "\n",
    "# Remove PKCS7 padding from the decrypted data\n",
    "unpadder = padding.PKCS7(128).unpadder()\n",
    "decrypted_data = unpadder.update(decrypted_padded_data) + unpadder.finalize()\n",
    "\n",
    "# Save the decrypted data to a file \n",
    "with open(\"decrypted_file\", 'wb') as decrypted_file:\n",
    "    decrypted_file.write(decrypted_data)\n",
    "\n",
    "print(\"File decrypted and saved as 'decrypted_file'.\")\n",
    "\n"
   ],
   "outputs": [
    {
     "name": "stdout",
     "output_type": "stream",
     "text": [
      "File decrypted and saved as 'decrypted_file'.\n"
     ]
    }
   ],
   "execution_count": 18
  },
  {
   "cell_type": "code",
   "metadata": {
    "ExecuteTime": {
     "end_time": "2025-01-20T08:28:12.143622Z",
     "start_time": "2025-01-20T08:28:11.755624Z"
    }
   },
   "source": [
    "# --- Verification Part ---\n",
    "with open(\"plaintext_file.txt\", 'r') as plaintext_file:\n",
    "    plaintext_data = plaintext_file.read()\n",
    "\n",
    "with open(\"decrypted_file\", 'r') as decrypted_file:\n",
    "    decrypted_data = decrypted_file.read()\n",
    "    \n",
    "if plaintext_data == decrypted_data:\n",
    "    print(\"The decrypted file is identical to the original plaintext.\")\n",
    "else:\n",
    "    print(\"不一样啊！！！出事啦啦啦啦啦啦啦！！！！！.\")\n"
   ],
   "outputs": [
    {
     "ename": "UnicodeDecodeError",
     "evalue": "'gbk' codec can't decode byte 0xdf in position 37: illegal multibyte sequence",
     "output_type": "error",
     "traceback": [
      "\u001B[1;31m---------------------------------------------------------------------------\u001B[0m",
      "\u001B[1;31mUnicodeDecodeError\u001B[0m                        Traceback (most recent call last)",
      "Cell \u001B[1;32mIn[19], line 3\u001B[0m\n\u001B[0;32m      1\u001B[0m \u001B[38;5;66;03m# --- Verification Part ---\u001B[39;00m\n\u001B[0;32m      2\u001B[0m \u001B[38;5;28;01mwith\u001B[39;00m \u001B[38;5;28mopen\u001B[39m(\u001B[38;5;124m\"\u001B[39m\u001B[38;5;124mplaintext_file.mp4\u001B[39m\u001B[38;5;124m\"\u001B[39m, \u001B[38;5;124m'\u001B[39m\u001B[38;5;124mr\u001B[39m\u001B[38;5;124m'\u001B[39m) \u001B[38;5;28;01mas\u001B[39;00m plaintext_file:\n\u001B[1;32m----> 3\u001B[0m     plaintext_data \u001B[38;5;241m=\u001B[39m \u001B[43mplaintext_file\u001B[49m\u001B[38;5;241;43m.\u001B[39;49m\u001B[43mread\u001B[49m\u001B[43m(\u001B[49m\u001B[43m)\u001B[49m\n\u001B[0;32m      5\u001B[0m \u001B[38;5;28;01mwith\u001B[39;00m \u001B[38;5;28mopen\u001B[39m(\u001B[38;5;124m\"\u001B[39m\u001B[38;5;124mdecrypted_file\u001B[39m\u001B[38;5;124m\"\u001B[39m, \u001B[38;5;124m'\u001B[39m\u001B[38;5;124mr\u001B[39m\u001B[38;5;124m'\u001B[39m) \u001B[38;5;28;01mas\u001B[39;00m decrypted_file:\n\u001B[0;32m      6\u001B[0m     decrypted_data \u001B[38;5;241m=\u001B[39m decrypted_file\u001B[38;5;241m.\u001B[39mread()\n",
      "\u001B[1;31mUnicodeDecodeError\u001B[0m: 'gbk' codec can't decode byte 0xdf in position 37: illegal multibyte sequence"
     ]
    }
   ],
   "execution_count": 19
  },
  {
   "cell_type": "code",
   "metadata": {
    "ExecuteTime": {
     "end_time": "2025-01-20T08:28:12.145624400Z",
     "start_time": "2024-10-25T08:28:37.196827Z"
    }
   },
   "source": [
    "#step.11\n",
    "# Load the decrypted file\n",
    "with open(\"decrypted_file\", 'rb') as decrypted_file:\n",
    "    decrypted_data = decrypted_file.read()\n",
    "\n",
    "# Compute the SHA-512 digest of the decrypted data\n",
    "sha512_hash = hashlib.sha512(decrypted_data).digest()\n",
    "\n",
    "# Convert the digest to a hexadecimal format\n",
    "hex_digest = sha512_hash.hex()\n",
    "\n",
    "# Save the hexadecimal digest to a file\n",
    "with open(\"digest_decrypted_file.hex\", 'w') as hex_file:\n",
    "    hex_file.write(hex_digest)\n",
    "\n",
    "print(\"SHA-512 digest of the decrypted file has been saved to 'digest_decrypted_file.hex'.\")"
   ],
   "outputs": [
    {
     "name": "stdout",
     "output_type": "stream",
     "text": [
      "SHA-512 digest of the decrypted file has been saved to 'digest_decrypted_file.hex'.\n"
     ]
    }
   ],
   "execution_count": 70
  },
  {
   "cell_type": "code",
   "metadata": {
    "ExecuteTime": {
     "end_time": "2025-01-20T08:28:12.145624400Z",
     "start_time": "2024-10-25T08:28:37.302826Z"
    }
   },
   "source": [
    "#verify digest_decrypted_file.hex\n",
    "with open(\"plaintext_file.txt\", 'rb') as plaintext:\n",
    "    plaintext_data = plaintext.read()\n",
    "# Load the decrypted file\n",
    "with open(\"decrypted_file\", 'rb') as decrypted_file:\n",
    "    decrypted_data = decrypted_file.read()\n",
    "\n",
    "# Compute the SHA-512 hash\n",
    "computed_sha512_hash = hashlib.sha512(plaintext_data).hexdigest()\n",
    "decrypted_data_sha512_hash = hashlib.sha512(decrypted_data).hexdigest()\n",
    "# Load the saved digest from the file\n",
    "with open(\"digest_decrypted_file.hex\", 'r') as hex_file:\n",
    "    saved_sha512_hash = hex_file.read()\n",
    "\n",
    "with open(\"digest_file.hex\", 'r') as digest_file:\n",
    "    saved_digest_file_data= digest_file.read()\n",
    "    \n",
    "# Verify if they match\n",
    "if computed_sha512_hash == saved_sha512_hash == decrypted_data_sha512_hash == saved_digest_file_data:\n",
    "    print(\"The hash matches! Verification successful.\")\n",
    "else:\n",
    "    print(\"出错了，不一样\")\n",
    "\n"
   ],
   "outputs": [
    {
     "name": "stdout",
     "output_type": "stream",
     "text": [
      "The hash matches! Verification successful.\n"
     ]
    }
   ],
   "execution_count": 71
  }
 ],
 "metadata": {
  "kernelspec": {
   "display_name": "Python 3",
   "language": "python",
   "name": "python3"
  },
  "language_info": {
   "codemirror_mode": {
    "name": "ipython",
    "version": 3
   },
   "file_extension": ".py",
   "mimetype": "text/x-python",
   "name": "python",
   "nbconvert_exporter": "python",
   "pygments_lexer": "ipython3",
   "version": "3.7.9"
  }
 },
 "nbformat": 4,
 "nbformat_minor": 2
}
